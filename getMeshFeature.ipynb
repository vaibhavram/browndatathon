{
 "cells": [
  {
   "cell_type": "code",
   "execution_count": 113,
   "metadata": {
    "collapsed": true
   },
   "outputs": [],
   "source": [
    "import pandas as pd\n",
    "import numpy as np\n",
    "import urllib.request, json \n",
    "import xmltodict\n",
    "from collections import Counter\n",
    "import re\n",
    "import xml.etree.ElementTree as ET\n",
    "import requests"
   ]
  },
  {
   "cell_type": "code",
   "execution_count": 2,
   "metadata": {
    "collapsed": false
   },
   "outputs": [
    {
     "data": {
      "text/plain": [
       "(2716, 8)"
      ]
     },
     "execution_count": 2,
     "metadata": {},
     "output_type": "execute_result"
    }
   ],
   "source": [
    "discovery = pd.read_csv(\"Data/DiscoveryEngine/DiscoveryEngine_Dataset_2_28_2018.csv\")\n",
    "discovery.shape"
   ]
  },
  {
   "cell_type": "code",
   "execution_count": 18,
   "metadata": {
    "collapsed": true
   },
   "outputs": [],
   "source": [
    "baseurl = \"https://www.ncbi.nlm.nih.gov/pubmed/?term=\"\n",
    "retmode = \"&retmode=xml&report=xml\""
   ]
  },
  {
   "cell_type": "code",
   "execution_count": 14,
   "metadata": {
    "collapsed": false
   },
   "outputs": [
    {
     "data": {
      "text/plain": [
       "'10.1152/jn.01366.2006'"
      ]
     },
     "execution_count": 14,
     "metadata": {},
     "output_type": "execute_result"
    }
   ],
   "source": [
    "ids[0]"
   ]
  },
  {
   "cell_type": "code",
   "execution_count": 15,
   "metadata": {
    "collapsed": false
   },
   "outputs": [
    {
     "name": "stdout",
     "output_type": "stream",
     "text": [
      "Starting DOI10.1152/jn.01366.2006...\n"
     ]
    }
   ],
   "source": [
    "ids = list(discovery['manuscript_DOI'].unique().astype(str))\n",
    "\n",
    "allMesh = []\n",
    "track = 1\n",
    "\n",
    "#for i in ids:\n",
    "i = \"10.1152/jn.01366.2006\"\n",
    "track += 1\n",
    "\n",
    "# Print line:\n",
    "#if track % 100 == 0:\n",
    "print(\"Starting DOI\" + i + \"...\")\n",
    "\n",
    "i = re.sub(\"/\", \"%2F\", i)\n",
    "# Open URL, read data\n",
    "file = urllib.request.urlopen(baseurl + i + retmode)\n",
    "data = file.read()\n",
    "file.close()\n",
    "\n",
    "# Parse XML data\n",
    "data = xmltodict.parse(data)\n",
    "\n",
    "#Meshwords\n",
    "meshWords = []\n",
    "try:\n",
    "    meshData = data['PubmedArticleSet']['PubmedArticle']['MedlineCitation']['MeshHeadingList']['MeshHeading']\n",
    "    for di in meshData:\n",
    "        word = di['DescriptorName']['#text']\n",
    "        words = word.split(\" \")\n",
    "        meshWords.extend(words)     \n",
    "except KeyError:\n",
    "    pass\n",
    "allMesh.append(meshWords)"
   ]
  },
  {
   "cell_type": "code",
   "execution_count": 93,
   "metadata": {
    "collapsed": false,
    "scrolled": true
   },
   "outputs": [
    {
     "name": "stdout",
     "output_type": "stream",
     "text": [
      "Starting DOI10.1152/jn.01366.2006...\n"
     ]
    }
   ],
   "source": [
    "i = \"10.1152/jn.01366.2006\"\n",
    "track += 1\n",
    "\n",
    "# Print line:\n",
    "#if track % 100 == 0:\n",
    "print(\"Starting DOI\" + i + \"...\")\n",
    "\n",
    "i = re.sub(\"/\", \"%2F\", i)\n",
    "\n",
    "# Open URL, read data, and save it\n",
    "file = urllib.request.urlopen(baseurl + i + retmode)\n",
    "contents = file.read()\n",
    "contents = contents.decode('utf-8')\n",
    "xml = open(\"import.xml\", \"w\")\n",
    "xml.write(contents)\n",
    "xml.close()\n",
    "\n"
   ]
  },
  {
   "cell_type": "code",
   "execution_count": 108,
   "metadata": {
    "collapsed": false
   },
   "outputs": [],
   "source": [
    "file = urllib.request.urlopen(baseurl + i + retmode)\n",
    "contents = file.read()"
   ]
  },
  {
   "cell_type": "code",
   "execution_count": null,
   "metadata": {
    "collapsed": true
   },
   "outputs": [],
   "source": [
    "for child in testroot:\n",
    "    print child.tag, child.attrib"
   ]
  },
  {
   "cell_type": "code",
   "execution_count": 84,
   "metadata": {
    "collapsed": false
   },
   "outputs": [
    {
     "data": {
      "text/plain": [
       "<Element 'pre' at 0x11e078a48>"
      ]
     },
     "execution_count": 84,
     "metadata": {},
     "output_type": "execute_result"
    }
   ],
   "source": [
    "hi = ET.parse(\"import.xml\")\n",
    "hiroot = hi.getroot()\n",
    "for neighbor in hiroot.iter('DescriptorName'):\n",
    "    print(neighbor.text)"
   ]
  }
 ],
 "metadata": {
  "kernelspec": {
   "display_name": "Python [default]",
   "language": "python",
   "name": "python3"
  },
  "language_info": {
   "codemirror_mode": {
    "name": "ipython",
    "version": 3
   },
   "file_extension": ".py",
   "mimetype": "text/x-python",
   "name": "python",
   "nbconvert_exporter": "python",
   "pygments_lexer": "ipython3",
   "version": "3.5.2"
  }
 },
 "nbformat": 4,
 "nbformat_minor": 1
}
