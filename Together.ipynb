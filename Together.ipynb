{
 "cells": [
  {
   "cell_type": "code",
   "execution_count": 44,
   "metadata": {
    "collapsed": true
   },
   "outputs": [],
   "source": [
    "import numpy as np\n",
    "import pandas as pd"
   ]
  },
  {
   "cell_type": "code",
   "execution_count": 45,
   "metadata": {},
   "outputs": [],
   "source": [
    "abstracts = pd.read_csv(\"abstracts.csv\", index_col = False)\n",
    "ratings = pd.read_csv(\"ratings.csv\", index_col = False)"
   ]
  },
  {
   "cell_type": "code",
   "execution_count": 46,
   "metadata": {},
   "outputs": [],
   "source": [
    "# joining abstracts and ratings\n",
    "abstracts = abstracts.drop([\"Unnamed: 0\"], axis = 1)\n",
    "ratings = ratings.drop([\"Unnamed: 0\"], axis = 1)\n",
    "data = ratings.merge(abstracts, how = \"left\", left_on = \"manuscript_DOI\", right_on = \"doi\")\n",
    "data = data.drop([\"doi\"], axis = 1)"
   ]
  },
  {
   "cell_type": "code",
   "execution_count": 47,
   "metadata": {},
   "outputs": [],
   "source": [
    "# adding abstract nchar column\n",
    "data[\"abstract_len\"] = data[\"abstract\"].str.len()"
   ]
  },
  {
   "cell_type": "code",
   "execution_count": 51,
   "metadata": {},
   "outputs": [],
   "source": [
    "# adding column containing number of digits in abstract\n",
    "data[\"abstract_num_digits\"] = \\\n",
    "data[\"abstract\"].str.count(\"0\") + data[\"abstract\"].str.count(\"1\") + data[\"abstract\"].str.count(\"2\") + \\\n",
    "data[\"abstract\"].str.count(\"3\") + data[\"abstract\"].str.count(\"4\") + data[\"abstract\"].str.count(\"5\") + \\\n",
    "data[\"abstract\"].str.count(\"6\") + data[\"abstract\"].str.count(\"7\") + data[\"abstract\"].str.count(\"8\") + \\\n",
    "data[\"abstract\"].str.count(\"9\")"
   ]
  },
  {
   "cell_type": "code",
   "execution_count": null,
   "metadata": {
    "collapsed": true
   },
   "outputs": [],
   "source": []
  },
  {
   "cell_type": "code",
   "execution_count": 64,
   "metadata": {},
   "outputs": [
    {
     "data": {
      "text/plain": [
       "0.15224358974358973"
      ]
     },
     "execution_count": 64,
     "metadata": {},
     "output_type": "execute_result"
    }
   ],
   "source": [
    "sum(data[\"abstract\"].isnull())/len(data[\"abstract\"])"
   ]
  }
 ],
 "metadata": {
  "kernelspec": {
   "display_name": "Python 3",
   "language": "python",
   "name": "python3"
  },
  "language_info": {
   "codemirror_mode": {
    "name": "ipython",
    "version": 3
   },
   "file_extension": ".py",
   "mimetype": "text/x-python",
   "name": "python",
   "nbconvert_exporter": "python",
   "pygments_lexer": "ipython3",
   "version": "3.6.1"
  }
 },
 "nbformat": 4,
 "nbformat_minor": 2
}
