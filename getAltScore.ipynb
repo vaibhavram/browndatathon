{
 "cells": [
  {
   "cell_type": "code",
   "execution_count": 1,
   "metadata": {
    "collapsed": true
   },
   "outputs": [],
   "source": [
    "import pandas as pd\n",
    "import numpy as np\n",
    "import urllib.request, json \n",
    "import time"
   ]
  },
  {
   "cell_type": "code",
   "execution_count": 2,
   "metadata": {
    "collapsed": false
   },
   "outputs": [
    {
     "data": {
      "text/plain": [
       "(2716, 8)"
      ]
     },
     "execution_count": 2,
     "metadata": {},
     "output_type": "execute_result"
    }
   ],
   "source": [
    "discovery = pd.read_csv(\"Data/DiscoveryEngine/DiscoveryEngine_Dataset_2_28_2018.csv\")\n",
    "discovery.shape"
   ]
  },
  {
   "cell_type": "code",
   "execution_count": 25,
   "metadata": {
    "collapsed": false
   },
   "outputs": [],
   "source": [
    "dois = discovery['manuscript_DOI'].unique()\n",
    "baseURL = \"https://api.altmetric.com/v1/doi/\"\n",
    "AltScoreDf = pd.DataFrame({\"DOI\": dois})\n",
    "AltScore = []"
   ]
  },
  {
   "cell_type": "code",
   "execution_count": 27,
   "metadata": {
    "collapsed": false
   },
   "outputs": [
    {
     "name": "stdout",
     "output_type": "stream",
     "text": [
      "CAN'T FIND THIS RECORD ON ALTMETRIC\n",
      "CAN'T FIND THIS RECORD ON ALTMETRIC\n",
      "CAN'T FIND THIS RECORD ON ALTMETRIC\n",
      "CAN'T FIND THIS RECORD ON ALTMETRIC\n",
      "CAN'T FIND THIS RECORD ON ALTMETRIC\n",
      "CAN'T FIND THIS RECORD ON ALTMETRIC\n",
      "CAN'T FIND THIS RECORD ON ALTMETRIC\n",
      "CAN'T FIND THIS RECORD ON ALTMETRIC\n",
      "CAN'T FIND THIS RECORD ON ALTMETRIC\n",
      "CAN'T FIND THIS RECORD ON ALTMETRIC\n",
      "CAN'T FIND THIS RECORD ON ALTMETRIC\n",
      "CAN'T FIND THIS RECORD ON ALTMETRIC\n",
      "CAN'T FIND THIS RECORD ON ALTMETRIC\n",
      "CAN'T FIND THIS RECORD ON ALTMETRIC\n",
      "Starting 100th DOI...\n",
      "200\n",
      "CAN'T FIND THIS RECORD ON ALTMETRIC\n",
      "CAN'T FIND THIS RECORD ON ALTMETRIC\n",
      "CAN'T FIND THIS RECORD ON ALTMETRIC\n",
      "CAN'T FIND THIS RECORD ON ALTMETRIC\n",
      "CAN'T FIND THIS RECORD ON ALTMETRIC\n",
      "CAN'T FIND THIS RECORD ON ALTMETRIC\n",
      "CAN'T FIND THIS RECORD ON ALTMETRIC\n",
      "CAN'T FIND THIS RECORD ON ALTMETRIC\n",
      "CAN'T FIND THIS RECORD ON ALTMETRIC\n",
      "CAN'T FIND THIS RECORD ON ALTMETRIC\n",
      "CAN'T FIND THIS RECORD ON ALTMETRIC\n",
      "CAN'T FIND THIS RECORD ON ALTMETRIC\n",
      "CAN'T FIND THIS RECORD ON ALTMETRIC\n",
      "CAN'T FIND THIS RECORD ON ALTMETRIC\n",
      "CAN'T FIND THIS RECORD ON ALTMETRIC\n",
      "CAN'T FIND THIS RECORD ON ALTMETRIC\n",
      "CAN'T FIND THIS RECORD ON ALTMETRIC\n",
      "CAN'T FIND THIS RECORD ON ALTMETRIC\n",
      "CAN'T FIND THIS RECORD ON ALTMETRIC\n",
      "CAN'T FIND THIS RECORD ON ALTMETRIC\n",
      "CAN'T FIND THIS RECORD ON ALTMETRIC\n",
      "CAN'T FIND THIS RECORD ON ALTMETRIC\n",
      "CAN'T FIND THIS RECORD ON ALTMETRIC\n",
      "CAN'T FIND THIS RECORD ON ALTMETRIC\n",
      "CAN'T FIND THIS RECORD ON ALTMETRIC\n",
      "CAN'T FIND THIS RECORD ON ALTMETRIC\n",
      "CAN'T FIND THIS RECORD ON ALTMETRIC\n",
      "CAN'T FIND THIS RECORD ON ALTMETRIC\n",
      "CAN'T FIND THIS RECORD ON ALTMETRIC\n",
      "CAN'T FIND THIS RECORD ON ALTMETRIC\n",
      "CAN'T FIND THIS RECORD ON ALTMETRIC\n",
      "CAN'T FIND THIS RECORD ON ALTMETRIC\n",
      "CAN'T FIND THIS RECORD ON ALTMETRIC\n",
      "CAN'T FIND THIS RECORD ON ALTMETRIC\n",
      "CAN'T FIND THIS RECORD ON ALTMETRIC\n",
      "CAN'T FIND THIS RECORD ON ALTMETRIC\n",
      "CAN'T FIND THIS RECORD ON ALTMETRIC\n",
      "CAN'T FIND THIS RECORD ON ALTMETRIC\n",
      "CAN'T FIND THIS RECORD ON ALTMETRIC\n",
      "CAN'T FIND THIS RECORD ON ALTMETRIC\n",
      "CAN'T FIND THIS RECORD ON ALTMETRIC\n",
      "CAN'T FIND THIS RECORD ON ALTMETRIC\n",
      "CAN'T FIND THIS RECORD ON ALTMETRIC\n",
      "CAN'T FIND THIS RECORD ON ALTMETRIC\n",
      "CAN'T FIND THIS RECORD ON ALTMETRIC\n",
      "CAN'T FIND THIS RECORD ON ALTMETRIC\n",
      "CAN'T FIND THIS RECORD ON ALTMETRIC\n",
      "CAN'T FIND THIS RECORD ON ALTMETRIC\n",
      "CAN'T FIND THIS RECORD ON ALTMETRIC\n",
      "Starting 300th DOI...\n",
      "200\n",
      "CAN'T FIND THIS RECORD ON ALTMETRIC\n",
      "CAN'T FIND THIS RECORD ON ALTMETRIC\n",
      "CAN'T FIND THIS RECORD ON ALTMETRIC\n",
      "CAN'T FIND THIS RECORD ON ALTMETRIC\n",
      "CAN'T FIND THIS RECORD ON ALTMETRIC\n",
      "CAN'T FIND THIS RECORD ON ALTMETRIC\n",
      "CAN'T FIND THIS RECORD ON ALTMETRIC\n",
      "CAN'T FIND THIS RECORD ON ALTMETRIC\n",
      "CAN'T FIND THIS RECORD ON ALTMETRIC\n",
      "CAN'T FIND THIS RECORD ON ALTMETRIC\n",
      "CAN'T FIND THIS RECORD ON ALTMETRIC\n",
      "CAN'T FIND THIS RECORD ON ALTMETRIC\n",
      "CAN'T FIND THIS RECORD ON ALTMETRIC\n",
      "CAN'T FIND THIS RECORD ON ALTMETRIC\n",
      "CAN'T FIND THIS RECORD ON ALTMETRIC\n",
      "CAN'T FIND THIS RECORD ON ALTMETRIC\n",
      "CAN'T FIND THIS RECORD ON ALTMETRIC\n",
      "Starting 400th DOI...\n",
      "200\n",
      "CAN'T FIND THIS RECORD ON ALTMETRIC\n",
      "CAN'T FIND THIS RECORD ON ALTMETRIC\n",
      "CAN'T FIND THIS RECORD ON ALTMETRIC\n",
      "CAN'T FIND THIS RECORD ON ALTMETRIC\n",
      "CAN'T FIND THIS RECORD ON ALTMETRIC\n",
      "CAN'T FIND THIS RECORD ON ALTMETRIC\n",
      "CAN'T FIND THIS RECORD ON ALTMETRIC\n",
      "CAN'T FIND THIS RECORD ON ALTMETRIC\n",
      "CAN'T FIND THIS RECORD ON ALTMETRIC\n",
      "CAN'T FIND THIS RECORD ON ALTMETRIC\n",
      "CAN'T FIND THIS RECORD ON ALTMETRIC\n",
      "CAN'T FIND THIS RECORD ON ALTMETRIC\n",
      "CAN'T FIND THIS RECORD ON ALTMETRIC\n",
      "CAN'T FIND THIS RECORD ON ALTMETRIC\n",
      "CAN'T FIND THIS RECORD ON ALTMETRIC\n",
      "CAN'T FIND THIS RECORD ON ALTMETRIC\n",
      "CAN'T FIND THIS RECORD ON ALTMETRIC\n",
      "CAN'T FIND THIS RECORD ON ALTMETRIC\n",
      "CAN'T FIND THIS RECORD ON ALTMETRIC\n",
      "CAN'T FIND THIS RECORD ON ALTMETRIC\n",
      "CAN'T FIND THIS RECORD ON ALTMETRIC\n",
      "CAN'T FIND THIS RECORD ON ALTMETRIC\n",
      "CAN'T FIND THIS RECORD ON ALTMETRIC\n",
      "CAN'T FIND THIS RECORD ON ALTMETRIC\n"
     ]
    }
   ],
   "source": [
    "i = 1\n",
    "for d in dois:\n",
    "    callURL = baseURL + d\n",
    "    try:\n",
    "        with urllib.request.urlopen(callURL) as url:\n",
    "            if i % 100 == 0:\n",
    "                print('Starting ' + str(i) + \"th DOI...\")\n",
    "                print(url.getcode())\n",
    "            data = json.loads(url.read().decode())\n",
    "        AltScore.append(data['score'])\n",
    "    except urllib.request.HTTPError as err:\n",
    "        if err.code == 420:\n",
    "            print(\"RATE IS BEING LIMITED THIS IS A PROBLEMS\")\n",
    "            AltScore.append(-1000)\n",
    "        elif err.code == 404:\n",
    "            print(\"CAN'T FIND THIS RECORD ON ALTMETRIC\")\n",
    "            AltScore.append(np.nan)\n",
    "        else:\n",
    "            print(\"DON'T KNOW WHAT'S HAPPENING\")\n",
    "            AltScore.append(np.nan)\n",
    "     \n",
    "    time.sleep(1 + np.random.uniform(0, 1))\n",
    "    \n",
    "    i += 1"
   ]
  },
  {
   "cell_type": "code",
   "execution_count": 31,
   "metadata": {
    "collapsed": false
   },
   "outputs": [
    {
     "data": {
      "text/html": [
       "<div>\n",
       "<table border=\"1\" class=\"dataframe\">\n",
       "  <thead>\n",
       "    <tr style=\"text-align: right;\">\n",
       "      <th></th>\n",
       "      <th>DOI</th>\n",
       "      <th>AltScore</th>\n",
       "    </tr>\n",
       "  </thead>\n",
       "  <tbody>\n",
       "    <tr>\n",
       "      <th>0</th>\n",
       "      <td>10.1152/jn.01366.2006</td>\n",
       "      <td>21.856</td>\n",
       "    </tr>\n",
       "    <tr>\n",
       "      <th>1</th>\n",
       "      <td>10.1016/j.neuron.2015.08.026</td>\n",
       "      <td>133.926</td>\n",
       "    </tr>\n",
       "    <tr>\n",
       "      <th>2</th>\n",
       "      <td>10.1038/mp.2011.31</td>\n",
       "      <td>1.000</td>\n",
       "    </tr>\n",
       "    <tr>\n",
       "      <th>3</th>\n",
       "      <td>10.1016/j.conb.2015.02.004</td>\n",
       "      <td>0.250</td>\n",
       "    </tr>\n",
       "    <tr>\n",
       "      <th>4</th>\n",
       "      <td>10.1038/nature16492</td>\n",
       "      <td>845.872</td>\n",
       "    </tr>\n",
       "  </tbody>\n",
       "</table>\n",
       "</div>"
      ],
      "text/plain": [
       "                            DOI  AltScore\n",
       "0         10.1152/jn.01366.2006    21.856\n",
       "1  10.1016/j.neuron.2015.08.026   133.926\n",
       "2            10.1038/mp.2011.31     1.000\n",
       "3    10.1016/j.conb.2015.02.004     0.250\n",
       "4           10.1038/nature16492   845.872"
      ]
     },
     "execution_count": 31,
     "metadata": {},
     "output_type": "execute_result"
    }
   ],
   "source": [
    "AltScoreDf['AltScore'] = AltScore\n",
    "AltScoreDf.head()"
   ]
  },
  {
   "cell_type": "code",
   "execution_count": 32,
   "metadata": {
    "collapsed": true
   },
   "outputs": [],
   "source": [
    "AltScoreDf.to_csv(\"AltScore.csv\", index = False)"
   ]
  },
  {
   "cell_type": "code",
   "execution_count": null,
   "metadata": {
    "collapsed": true
   },
   "outputs": [],
   "source": []
  }
 ],
 "metadata": {
  "kernelspec": {
   "display_name": "Python [default]",
   "language": "python",
   "name": "python3"
  },
  "language_info": {
   "codemirror_mode": {
    "name": "ipython",
    "version": 3
   },
   "file_extension": ".py",
   "mimetype": "text/x-python",
   "name": "python",
   "nbconvert_exporter": "python",
   "pygments_lexer": "ipython3",
   "version": "3.5.2"
  }
 },
 "nbformat": 4,
 "nbformat_minor": 1
}
